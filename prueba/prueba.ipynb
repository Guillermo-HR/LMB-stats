{
 "cells": [
  {
   "cell_type": "code",
   "execution_count": null,
   "id": "07526fa4",
   "metadata": {},
   "outputs": [],
   "source": [
    "import matplotlib.pyplot as plt\n",
    "import seaborn as sns\n",
    "\n",
    "import requests\n",
    "import json\n",
    "\n",
    "import pandas as pd\n",
    "import numpy as np"
   ]
  },
  {
   "cell_type": "code",
   "execution_count": null,
   "id": "28c60124",
   "metadata": {},
   "outputs": [],
   "source": [
    "urlBaseV1 = 'https://statsapi.mlb.com/api/v1/'\n",
    "urlBaseV1_1 = 'https://statsapi.mlb.com/api/v1.1/'"
   ]
  },
  {
   "cell_type": "markdown",
   "id": "c98803c5",
   "metadata": {},
   "source": [
    "Validar que es deporte 23 (ligas independeinte)"
   ]
  },
  {
   "cell_type": "code",
   "execution_count": null,
   "id": "fbaec56f",
   "metadata": {},
   "outputs": [],
   "source": [
    "data = requests.get(urlBaseV1 + 'sports/23').content\n",
    "data = json.loads(data)\n",
    "with open('deportes.json', 'w') as f:\n",
    "    json.dump(data, f, indent=4)"
   ]
  },
  {
   "cell_type": "markdown",
   "id": "7cc52a4f",
   "metadata": {},
   "source": [
    "Validar que la liga sea 125"
   ]
  },
  {
   "cell_type": "code",
   "execution_count": null,
   "id": "9569d074",
   "metadata": {},
   "outputs": [],
   "source": [
    "data = requests.get(urlBaseV1 + 'league/125').content\n",
    "data = json.loads(data)\n",
    "with open('liga.json', 'w') as f:\n",
    "    json.dump(data, f, indent=4)"
   ]
  },
  {
   "cell_type": "markdown",
   "id": "3d0277b9",
   "metadata": {},
   "source": [
    "Obtener los datos de las temporadas para la LMB"
   ]
  },
  {
   "cell_type": "code",
   "execution_count": null,
   "id": "f8ebd856",
   "metadata": {},
   "outputs": [],
   "source": [
    "data = requests.get(urlBaseV1 + 'seasons/all?leagueId=125').content\n",
    "data = json.loads(data)\n",
    "with open('temporadas.json', 'w') as f:\n",
    "    json.dump(data, f, indent=4)"
   ]
  },
  {
   "cell_type": "markdown",
   "id": "90cb6046",
   "metadata": {},
   "source": [
    "Obtener los tipos de juegos"
   ]
  },
  {
   "cell_type": "code",
   "execution_count": null,
   "id": "2f2ff440",
   "metadata": {},
   "outputs": [],
   "source": [
    "data = requests.get(urlBaseV1 + 'gameTypes').content\n",
    "data = json.loads(data)\n",
    "with open('tiposJuegos.json', 'w') as f:\n",
    "    json.dump(data, f, indent=4)"
   ]
  },
  {
   "cell_type": "markdown",
   "id": "e7ff5385",
   "metadata": {},
   "source": [
    "Obtener los tipo at bat"
   ]
  },
  {
   "cell_type": "code",
   "execution_count": null,
   "id": "e3659e5d",
   "metadata": {},
   "outputs": [],
   "source": [
    "data = requests.get(urlBaseV1 + 'eventTypes').content\n",
    "data = json.loads(data)\n",
    "with open('tiposAtBat.json', 'w') as f:\n",
    "    json.dump(data, f, indent=4)"
   ]
  },
  {
   "cell_type": "markdown",
   "id": "e3049673",
   "metadata": {},
   "source": [
    "Obtener los tipos de lanzamientos"
   ]
  },
  {
   "cell_type": "code",
   "execution_count": null,
   "id": "b89236c7",
   "metadata": {},
   "outputs": [],
   "source": [
    "data = requests.get(urlBaseV1 + 'pitchCodes').content\n",
    "data = json.loads(data)\n",
    "with open('tiposLanzamiento.json', 'w') as f:\n",
    "    json.dump(data, f, indent=4)"
   ]
  },
  {
   "cell_type": "markdown",
   "id": "0e0ad9ec",
   "metadata": {},
   "source": [
    "Obtener los tipos de status para los juegos"
   ]
  },
  {
   "cell_type": "code",
   "execution_count": null,
   "id": "8de76a76",
   "metadata": {},
   "outputs": [],
   "source": [
    "data = requests.get(urlBaseV1 + 'gameStatus').content\n",
    "data = json.loads(data)\n",
    "with open('tiposStatusJuego.json', 'w') as f:\n",
    "    json.dump(data, f, indent=4)"
   ]
  },
  {
   "cell_type": "markdown",
   "id": "c80aa9a6",
   "metadata": {},
   "source": [
    "Obtener las diferentes posiciones"
   ]
  },
  {
   "cell_type": "code",
   "execution_count": null,
   "id": "1b8c0e63",
   "metadata": {},
   "outputs": [],
   "source": [
    "data = requests.get(urlBaseV1 + 'positions').content\n",
    "data = json.loads(data)\n",
    "with open('posiciones.json', 'w') as f:\n",
    "    json.dump(data, f, indent=4)"
   ]
  },
  {
   "cell_type": "markdown",
   "id": "0f22c109",
   "metadata": {},
   "source": [
    "Obtener datos de los equipos actuales de la liga"
   ]
  },
  {
   "cell_type": "code",
   "execution_count": null,
   "id": "9e90ae3c",
   "metadata": {},
   "outputs": [],
   "source": [
    "data = requests.get(urlBaseV1 + 'teams?leagueId=125').content\n",
    "data = json.loads(data)\n",
    "with open('equipos.json', 'w') as f:\n",
    "    json.dump(data, f, indent=4)"
   ]
  },
  {
   "cell_type": "markdown",
   "id": "1ed4dc87",
   "metadata": {},
   "source": [
    "Obtener la informacion de los diablos"
   ]
  },
  {
   "cell_type": "code",
   "execution_count": null,
   "id": "3fa60527",
   "metadata": {},
   "outputs": [],
   "source": [
    "data = requests.get(urlBaseV1 + 'teams?teamId=532').content\n",
    "data = json.loads(data)\n",
    "with open('InformacionDiablos.json', 'w') as f:\n",
    "    json.dump(data, f, indent=4)"
   ]
  },
  {
   "cell_type": "markdown",
   "id": "230bf0af",
   "metadata": {},
   "source": [
    "Obtener roster diablos 2025"
   ]
  },
  {
   "cell_type": "code",
   "execution_count": null,
   "id": "6116a195",
   "metadata": {},
   "outputs": [],
   "source": [
    "data = requests.get(urlBaseV1 + 'teams/532/roster?season=2025').content\n",
    "data = json.loads(data)\n",
    "with open('rosterDiablos2025.json', 'w') as f:\n",
    "    json.dump(data, f, indent=4)"
   ]
  },
  {
   "cell_type": "markdown",
   "id": "68dbcca0",
   "metadata": {},
   "source": [
    "Obtener informacion de gamboa (jugador diablos)"
   ]
  },
  {
   "cell_type": "code",
   "execution_count": null,
   "id": "db62dd74",
   "metadata": {},
   "outputs": [],
   "source": [
    "data = requests.get(urlBaseV1 + 'people/585251/').content\n",
    "data = json.loads(data)\n",
    "with open('informacionGamboa.json', 'w') as f:\n",
    "    json.dump(data, f, indent=4)"
   ]
  },
  {
   "cell_type": "markdown",
   "id": "a9c52873",
   "metadata": {},
   "source": [
    "Obtener los partidos de una temporada (datos apartir de la temporada 2021)"
   ]
  },
  {
   "cell_type": "code",
   "execution_count": null,
   "id": "253f0bfd",
   "metadata": {},
   "outputs": [],
   "source": [
    "temporada = 2023\n",
    "data = requests.get(urlBaseV1 + f'schedule?sportId=23&leageId=125&season={temporada}').content\n",
    "data = json.loads(data)\n",
    "with open(f'calendario{temporada}.json', 'w') as f:\n",
    "    json.dump(data, f, indent=4)"
   ]
  },
  {
   "cell_type": "markdown",
   "id": "1ceebe98",
   "metadata": {},
   "source": [
    "Obtener informacion del primer juego de diablos 2025"
   ]
  },
  {
   "cell_type": "code",
   "execution_count": null,
   "id": "a3b8917a",
   "metadata": {},
   "outputs": [],
   "source": [
    "data = requests.get(urlBaseV1_1 + 'game/809656/feed/live').content\n",
    "data = json.loads(data)\n",
    "with open('partidoInaguralDiablos.json', 'w') as f:\n",
    "    json.dump(data, f, indent=4)"
   ]
  },
  {
   "cell_type": "markdown",
   "id": "22a3c356",
   "metadata": {},
   "source": [
    "Obtener informacion del primer at bat del juego"
   ]
  },
  {
   "cell_type": "code",
   "execution_count": null,
   "id": "5128e013",
   "metadata": {},
   "outputs": [],
   "source": [
    "df = pd.DataFrame(columns=['atBat', 'nLanzamiento', 'resultado', 'x', 'y'])\n",
    "atBat = 1\n",
    "for aB in range(atBat):\n",
    "    dfAtBat = pd.DataFrame(columns=['atBat', 'nLanzamiento', 'resultado', 'x', 'y'])\n",
    "    datosAtBat = data['liveData']['plays']['allPlays'][aB]\n",
    "    lanzamientos = len(datosAtBat['playEvents'])\n",
    "    nombreBateador = datosAtBat['matchup']['batter']['fullName']\n",
    "    nombreLanzador = datosAtBat['matchup']['pitcher']['fullName']\n",
    "    zonaTop = (datosAtBat['playEvents'][-1]['pitchData']['strikeZoneTop'])\n",
    "    zonaBottom = (datosAtBat['playEvents'][-1]['pitchData']['strikeZoneBottom'])\n",
    "    altura = zonaTop - zonaBottom\n",
    "    contador = 0\n",
    "    for lanzamiento in range(lanzamientos):\n",
    "        # validar si el lanzamiento tiene el parametro 'call'\n",
    "        if 'call' not in datosAtBat['playEvents'][lanzamiento]['details']:\n",
    "            continue\n",
    "        contador += 1\n",
    "        x = -0.021 * (datosAtBat['playEvents'][lanzamiento]['pitchData']['coordinates']['x']) + 2.298\n",
    "        y = -0.021 * (datosAtBat['playEvents'][lanzamiento]['pitchData']['coordinates']['y']) + 5.803\n",
    "        dfAtBat.loc[len(dfAtBat)] = {'atBat': aB,\n",
    "                           'nLanzamiento': contador,\n",
    "                           'resultado': datosAtBat['playEvents'][lanzamiento]['details']['call']['description'],\n",
    "                           'x': x,\n",
    "                           'y': y}\n",
    "        df.loc[len(df)] = {'atBat': aB,\n",
    "                           'nLanzamiento': contador,\n",
    "                           'resultado': datosAtBat['playEvents'][lanzamiento]['details']['call']['description'],\n",
    "                           'x': x,\n",
    "                           'y': y}\n",
    "\n",
    "    plt.figure(figsize=(6, 6))\n",
    "    plt.title(f'Pitcheos de {nombreLanzador} vs {nombreBateador} - Turno {aB + 1}')\n",
    "    plt.scatter(dfAtBat['x'], dfAtBat['y'], c='blue', label='Pitcheos')\n",
    "\n",
    "    # Agrega el número de pitcheo junto a cada punto\n",
    "    for i, row in dfAtBat.iterrows():\n",
    "        plt.text(row['x'], row['y'], str(row['nLanzamiento']), fontsize=9, ha='left', va='bottom')\n",
    "\n",
    "    # Coordenadas de la zona de strike\n",
    "    x_cuadro = [-0.7, -0.7, 0.7, 0.7, -0.7]\n",
    "    y_cuadro = [zonaBottom, zonaTop, zonaTop, zonaBottom, zonaBottom]\n",
    "    plt.plot(x_cuadro, y_cuadro, color='red', linestyle='-', label='Cuadro zona')\n",
    "\n",
    "    # Lineas de la zona de strike\n",
    "    tercioVertical = (zonaTop - zonaBottom) / 3\n",
    "    tercioHorizontal = 1.4 / 3\n",
    "    plt.plot([-0.7, 0.7], [zonaBottom + tercioVertical, zonaBottom + tercioVertical], color='red', linestyle='-')\n",
    "    plt.plot([-0.7, 0.7], [zonaTop - tercioVertical, zonaTop - tercioVertical], color='red', linestyle='-')\n",
    "    plt.plot([-0.7 + tercioHorizontal, -0.7 + tercioHorizontal], [zonaBottom, zonaTop], color='red', linestyle='-')\n",
    "    plt.plot([0.7 - tercioHorizontal, 0.7 - tercioHorizontal], [zonaBottom, zonaTop], color='red', linestyle='-')\n",
    "\n",
    "    # Etiquetas y limites\n",
    "    plt.xlabel('x')\n",
    "    plt.ylabel('y')\n",
    "    plt.xlim(-2.5, 2.5)\n",
    "    plt.ylim(0, 5)\n",
    "\n",
    "    plt.show()\n",
    "        "
   ]
  }
 ],
 "metadata": {
  "kernelspec": {
   "display_name": ".venv",
   "language": "python",
   "name": "python3"
  },
  "language_info": {
   "codemirror_mode": {
    "name": "ipython",
    "version": 3
   },
   "file_extension": ".py",
   "mimetype": "text/x-python",
   "name": "python",
   "nbconvert_exporter": "python",
   "pygments_lexer": "ipython3",
   "version": "3.13.3"
  }
 },
 "nbformat": 4,
 "nbformat_minor": 5
}
